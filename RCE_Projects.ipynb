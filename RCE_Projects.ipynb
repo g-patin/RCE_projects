{
 "cells": [
  {
   "cell_type": "code",
   "execution_count": 2,
   "id": "d299c2d5-adbc-488c-b8ed-f261defeae57",
   "metadata": {},
   "outputs": [],
   "source": [
    "from rce_projects import *"
   ]
  },
  {
   "cell_type": "markdown",
   "id": "3eb19733-970c-4f3e-bd13-8212186e427a",
   "metadata": {},
   "source": [
    "# Create new projects"
   ]
  },
  {
   "cell_type": "code",
   "execution_count": 3,
   "id": "c02e1da3-ffe0-4ffd-bfe4-3190f2b06254",
   "metadata": {},
   "outputs": [
    {
     "data": {
      "application/vnd.jupyter.widget-view+json": {
       "model_id": "8574f6ddce50409592414b382f4546bf",
       "version_major": 2,
       "version_minor": 0
      },
      "text/plain": [
       "HBox(children=(VBox(children=(HBox(children=(VBox(children=(Text(value='', description='Project Id', layout=La…"
      ]
     },
     "metadata": {},
     "output_type": "display_data"
    },
    {
     "data": {
      "application/vnd.jupyter.widget-view+json": {
       "model_id": "41f4fef9050d4ef0bd4b2e50266754ba",
       "version_major": 2,
       "version_minor": 0
      },
      "text/plain": [
       "HBox(children=(Button(description='Create record', style=ButtonStyle(), tooltip='Click me'), Output()))"
      ]
     },
     "metadata": {},
     "output_type": "display_data"
    },
    {
     "data": {
      "application/vnd.jupyter.widget-view+json": {
       "model_id": "b04cee087ad547e49dbc99e4982b77af",
       "version_major": 2,
       "version_minor": 0
      },
      "text/plain": [
       "HBox(children=(Button(description='Create folders', style=ButtonStyle(), tooltip='Click me'), Output()))"
      ]
     },
     "metadata": {},
     "output_type": "display_data"
    },
    {
     "data": {
      "application/vnd.jupyter.widget-view+json": {
       "model_id": "7264568eb39247ec8a80db1bff73a44f",
       "version_major": 2,
       "version_minor": 0
      },
      "text/plain": [
       "HBox(children=(Button(description='Create Github repo', style=ButtonStyle(), tooltip='Click me'), Output()))"
      ]
     },
     "metadata": {},
     "output_type": "display_data"
    },
    {
     "data": {
      "text/plain": [
       "RCE project(project_Id = create)"
      ]
     },
     "execution_count": 3,
     "metadata": {},
     "output_type": "execute_result"
    }
   ],
   "source": [
    "RCEProject('create')"
   ]
  },
  {
   "cell_type": "markdown",
   "id": "06f97e47-4dcc-4fb8-80e7-eda6b6242bbe",
   "metadata": {},
   "source": [
    "# Manage existing projects"
   ]
  },
  {
   "cell_type": "code",
   "execution_count": 5,
   "id": "2e9528e2-64cc-49ae-a958-146ad696cc20",
   "metadata": {},
   "outputs": [],
   "source": [
    "# We created an instance of the RCEProject class for which several functionalities are now available\n",
    "\n",
    "project_id = '2023-082'\n",
    "p = RCEProject(project_id)"
   ]
  },
  {
   "cell_type": "code",
   "execution_count": 17,
   "id": "a34b625a-2bc7-4e15-ad60-087d1d5683cf",
   "metadata": {},
   "outputs": [
    {
     "name": "stdout",
     "output_type": "stream",
     "text": [
      "Techniques : ['MFT', 'Photos', 'Power']\n",
      "Objects : ['BW69341']\n",
      "---------------------------\n",
      "                             2023-082\n",
      "institution     De Nederlandsche Bank\n",
      "aanvraagdatum              2023-04-13\n",
      "uiterste_datum                    NaN\n",
      "PL                                 GP\n",
      "ML                                 AB\n",
      "keyword                    bankbiljet\n"
     ]
    }
   ],
   "source": [
    "# Here are few examples \n",
    "\n",
    "# list of analytical techniques performed\n",
    "print(f'Techniques : {p.techniques}')\n",
    "\n",
    "# list of objects analysed\n",
    "print(f'Objects : {p.objects}')\n",
    "\n",
    "# general info over the project\n",
    "print('---------------------------')\n",
    "print(p.info)"
   ]
  },
  {
   "cell_type": "code",
   "execution_count": 14,
   "id": "be0dd059-a894-4f45-95e4-a841f1f5e9ba",
   "metadata": {},
   "outputs": [
    {
     "data": {
      "text/plain": [
       "{'MFT': ['/home/gus/Documents/RCE/projects/2023-082_GP_DNB_bankbiljet/data/interim/MFT/2023-06-22_2023-082_MF.BW69341.03_G01_banknote_HPX1_VIS-25-01_sMFT_dE.csv',\n",
       "  '/home/gus/Documents/RCE/projects/2023-082_GP_DNB_bankbiljet/data/interim/MFT/2023-06-23_2023-082_MF.BW69341.17_G06_banknote_HPX1_VIS-25-01_sMFT_INFO.txt',\n",
       "  '/home/gus/Documents/RCE/projects/2023-082_GP_DNB_bankbiljet/data/interim/MFT/2023-06-22_2023-082_MF.BW69341.06_G02_banknote_HPX1_VIS-25-01_sMFT_INFO.txt',\n",
       "  '/home/gus/Documents/RCE/projects/2023-082_GP_DNB_bankbiljet/data/interim/MFT/2023-06-23_2023-082_MF.BW69341.15_G05_banknote_HPX1_VIS-25-01_sMFT_INFO.txt',\n",
       "  '/home/gus/Documents/RCE/projects/2023-082_GP_DNB_bankbiljet/data/interim/MFT/2023-06-22_2023-082_MF.BW69341.09_G03_banknote_HPX1_VIS-25-01_sMFT_INFO.txt',\n",
       "  '/home/gus/Documents/RCE/projects/2023-082_GP_DNB_bankbiljet/data/interim/MFT/2023-06-23_2023-082_MF.BW69341.17_G06_banknote_HPX1_VIS-25-01_sMFT_SP.csv',\n",
       "  '/home/gus/Documents/RCE/projects/2023-082_GP_DNB_bankbiljet/data/interim/MFT/2023-06-23_2023-082_MF.BW69341.13_G05_banknote_HPX1_VIS-25-01_sMFT_SP.csv',\n",
       "  '/home/gus/Documents/RCE/projects/2023-082_GP_DNB_bankbiljet/data/interim/MFT/2023-06-22_2023-082_MF.BW69341.04_G02_banknote_HPX1_VIS-25-01_sMFT_INFO.txt',\n",
       "  '/home/gus/Documents/RCE/projects/2023-082_GP_DNB_bankbiljet/data/interim/MFT/2023-06-22_2023-082_MF.BW69341.09_G03_banknote_HPX1_VIS-25-01_sMFT_SP.csv',\n",
       "  '/home/gus/Documents/RCE/projects/2023-082_GP_DNB_bankbiljet/data/interim/MFT/2023-06-23_2023-082_MF.BW69341.10_G04_banknote_HPX1_VIS-25-01_sMFT_dE.csv',\n",
       "  '/home/gus/Documents/RCE/projects/2023-082_GP_DNB_bankbiljet/data/interim/MFT/2023-06-23_2023-082_MF.BW69341.12_G04_banknote_HPX1_VIS-25-01_sMFT_SP.csv',\n",
       "  '/home/gus/Documents/RCE/projects/2023-082_GP_DNB_bankbiljet/data/interim/MFT/2023-06-23_2023-082_MF.BW69341.11_G04_banknote_HPX1_VIS-25-01_sMFT_SP.csv',\n",
       "  '/home/gus/Documents/RCE/projects/2023-082_GP_DNB_bankbiljet/data/interim/MFT/2023-06-23_2023-082_MF.BW69341.12_G04_banknote_HPX1_VIS-25-01_sMFT_INFO.txt',\n",
       "  '/home/gus/Documents/RCE/projects/2023-082_GP_DNB_bankbiljet/data/interim/MFT/2023-06-23_2023-082_MF.BW69341.11_G04_banknote_HPX1_VIS-25-01_sMFT_INFO.txt',\n",
       "  '/home/gus/Documents/RCE/projects/2023-082_GP_DNB_bankbiljet/data/interim/MFT/2023-06-28_2023-082_MF.BW69341.20_G07_banknote_HPX1_VIS-25-01_sMFT_INFO.txt',\n",
       "  '/home/gus/Documents/RCE/projects/2023-082_GP_DNB_bankbiljet/data/interim/MFT/2023-06-28_2023-082_MF.BW69341.21_G07_banknote_HPX1_VIS-25-01_sMFT_SP.csv',\n",
       "  '/home/gus/Documents/RCE/projects/2023-082_GP_DNB_bankbiljet/data/interim/MFT/2023-06-23_2023-082_MF.BW69341.16_G06_banknote_HPX1_VIS-25-01_sMFT_SP.csv',\n",
       "  '/home/gus/Documents/RCE/projects/2023-082_GP_DNB_bankbiljet/data/interim/MFT/2023-06-23_2023-082_MF.BW69341.18_G06_banknote_HPX1_VIS-25-01_sMFT_SP.csv',\n",
       "  '/home/gus/Documents/RCE/projects/2023-082_GP_DNB_bankbiljet/data/interim/MFT/2023-06-22_2023-082_MF.BW69341.09_G03_banknote_HPX1_VIS-25-01_sMFT_dE.csv',\n",
       "  '/home/gus/Documents/RCE/projects/2023-082_GP_DNB_bankbiljet/data/interim/MFT/2023-06-22_2023-082_MF.BW69341.01_G01_banknote_HPX1_VIS-25-01_sMFT_dE.csv',\n",
       "  '/home/gus/Documents/RCE/projects/2023-082_GP_DNB_bankbiljet/data/interim/MFT/2023-06-22_2023-082_MF.BW69341.07_G03_banknote_HPX1_VIS-25-01_sMFT_SP.csv',\n",
       "  '/home/gus/Documents/RCE/projects/2023-082_GP_DNB_bankbiljet/data/interim/MFT/2023-06-23_2023-082_MF.BW69341.17_G06_banknote_HPX1_VIS-25-01_sMFT_dE.csv',\n",
       "  '/home/gus/Documents/RCE/projects/2023-082_GP_DNB_bankbiljet/data/interim/MFT/2023-06-23_2023-082_MF.BW69341.11_G04_banknote_HPX1_VIS-25-01_sMFT_dE.csv',\n",
       "  '/home/gus/Documents/RCE/projects/2023-082_GP_DNB_bankbiljet/data/interim/MFT/2023-06-28_2023-082_MF.BW69341.21_G07_banknote_HPX1_VIS-25-01_sMFT_dE.csv',\n",
       "  '/home/gus/Documents/RCE/projects/2023-082_GP_DNB_bankbiljet/data/interim/MFT/2023-06-22_2023-082_MF.BW69341.02_G01_banknote_HPX1_VIS-25-01_sMFT_SP.csv',\n",
       "  '/home/gus/Documents/RCE/projects/2023-082_GP_DNB_bankbiljet/data/interim/MFT/2023-06-23_2023-082_MF.BW69341.13_G05_banknote_HPX1_VIS-25-01_sMFT_INFO.txt',\n",
       "  '/home/gus/Documents/RCE/projects/2023-082_GP_DNB_bankbiljet/data/interim/MFT/2023-06-22_2023-082_MF.BW69341.05_G02_banknote_HPX1_VIS-25-01_sMFT_INFO.txt',\n",
       "  '/home/gus/Documents/RCE/projects/2023-082_GP_DNB_bankbiljet/data/interim/MFT/2023-06-23_2023-082_MF.BW69341.15_G05_banknote_HPX1_VIS-25-01_sMFT_SP.csv',\n",
       "  '/home/gus/Documents/RCE/projects/2023-082_GP_DNB_bankbiljet/data/interim/MFT/2023-06-23_2023-082_MF.BW69341.16_G06_banknote_HPX1_VIS-25-01_sMFT_INFO.txt',\n",
       "  '/home/gus/Documents/RCE/projects/2023-082_GP_DNB_bankbiljet/data/interim/MFT/2023-06-22_2023-082_MF.BW69341.07_G03_banknote_HPX1_VIS-25-01_sMFT_dE.csv',\n",
       "  '/home/gus/Documents/RCE/projects/2023-082_GP_DNB_bankbiljet/data/interim/MFT/2023-06-22_2023-082_MF.BW69341.03_G01_banknote_HPX1_VIS-25-01_sMFT_INFO.txt',\n",
       "  '/home/gus/Documents/RCE/projects/2023-082_GP_DNB_bankbiljet/data/interim/MFT/2023-06-22_2023-082_MF.BW69341.02_G01_banknote_HPX1_VIS-25-01_sMFT_dE.csv',\n",
       "  '/home/gus/Documents/RCE/projects/2023-082_GP_DNB_bankbiljet/data/interim/MFT/2023-06-22_2023-082_MF.BW69341.01_G01_banknote_HPX1_VIS-25-01_sMFT_SP.csv',\n",
       "  '/home/gus/Documents/RCE/projects/2023-082_GP_DNB_bankbiljet/data/interim/MFT/2023-06-28_2023-082_MF.BW69341.19_G07_banknote_HPX1_VIS-25-01_sMFT_dE.csv',\n",
       "  '/home/gus/Documents/RCE/projects/2023-082_GP_DNB_bankbiljet/data/interim/MFT/2023-06-22_2023-082_MF.BW69341.08_G03_banknote_HPX1_VIS-25-01_sMFT_SP.csv',\n",
       "  '/home/gus/Documents/RCE/projects/2023-082_GP_DNB_bankbiljet/data/interim/MFT/2023-06-22_2023-082_MF.BW69341.03_G01_banknote_HPX1_VIS-25-01_sMFT_SP.csv',\n",
       "  '/home/gus/Documents/RCE/projects/2023-082_GP_DNB_bankbiljet/data/interim/MFT/2023-06-22_2023-082_MF.BW69341.04_G02_banknote_HPX1_VIS-25-01_sMFT_SP.csv',\n",
       "  '/home/gus/Documents/RCE/projects/2023-082_GP_DNB_bankbiljet/data/interim/MFT/2023-06-23_2023-082_MF.BW69341.14_G05_banknote_HPX1_VIS-25-01_sMFT_SP.csv',\n",
       "  '/home/gus/Documents/RCE/projects/2023-082_GP_DNB_bankbiljet/data/interim/MFT/2023-06-23_2023-082_MF.BW69341.10_G04_banknote_HPX1_VIS-25-01_sMFT_INFO.txt',\n",
       "  '/home/gus/Documents/RCE/projects/2023-082_GP_DNB_bankbiljet/data/interim/MFT/2023-06-22_2023-082_MF.BW69341.01_G01_banknote_HPX1_VIS-25-01_sMFT_INFO.txt',\n",
       "  '/home/gus/Documents/RCE/projects/2023-082_GP_DNB_bankbiljet/data/interim/MFT/2023-06-23_2023-082_MF.BW69341.13_G05_banknote_HPX1_VIS-25-01_sMFT_dE.csv',\n",
       "  '/home/gus/Documents/RCE/projects/2023-082_GP_DNB_bankbiljet/data/interim/MFT/2023-06-23_2023-082_MF.BW69341.14_G05_banknote_HPX1_VIS-25-01_sMFT_INFO.txt',\n",
       "  '/home/gus/Documents/RCE/projects/2023-082_GP_DNB_bankbiljet/data/interim/MFT/2023-06-22_2023-082_MF.BW69341.08_G03_banknote_HPX1_VIS-25-01_sMFT_dE.csv',\n",
       "  '/home/gus/Documents/RCE/projects/2023-082_GP_DNB_bankbiljet/data/interim/MFT/2023-06-28_2023-082_MF.BW69341.20_G07_banknote_HPX1_VIS-25-01_sMFT_dE.csv',\n",
       "  '/home/gus/Documents/RCE/projects/2023-082_GP_DNB_bankbiljet/data/interim/MFT/2023-06-28_2023-082_MF.BW69341.19_G07_banknote_HPX1_VIS-25-01_sMFT_SP.csv',\n",
       "  '/home/gus/Documents/RCE/projects/2023-082_GP_DNB_bankbiljet/data/interim/MFT/2023-06-22_2023-082_MF.BW69341.07_G03_banknote_HPX1_VIS-25-01_sMFT_INFO.txt',\n",
       "  '/home/gus/Documents/RCE/projects/2023-082_GP_DNB_bankbiljet/data/interim/MFT/2023-06-23_2023-082_MF.BW69341.15_G05_banknote_HPX1_VIS-25-01_sMFT_dE.csv',\n",
       "  '/home/gus/Documents/RCE/projects/2023-082_GP_DNB_bankbiljet/data/interim/MFT/2023-06-22_2023-082_MF.BW69341.04_G02_banknote_HPX1_VIS-25-01_sMFT_dE.csv',\n",
       "  '/home/gus/Documents/RCE/projects/2023-082_GP_DNB_bankbiljet/data/interim/MFT/2023-06-23_2023-082_MF.BW69341.10_G04_banknote_HPX1_VIS-25-01_sMFT_SP.csv',\n",
       "  '/home/gus/Documents/RCE/projects/2023-082_GP_DNB_bankbiljet/data/interim/MFT/2023-06-22_2023-082_MF.BW69341.05_G02_banknote_HPX1_VIS-25-01_sMFT_dE.csv',\n",
       "  '/home/gus/Documents/RCE/projects/2023-082_GP_DNB_bankbiljet/data/interim/MFT/2023-06-22_2023-082_MF.BW69341.06_G02_banknote_HPX1_VIS-25-01_sMFT_dE.csv',\n",
       "  '/home/gus/Documents/RCE/projects/2023-082_GP_DNB_bankbiljet/data/interim/MFT/2023-06-28_2023-082_MF.BW69341.20_G07_banknote_HPX1_VIS-25-01_sMFT_SP.csv',\n",
       "  '/home/gus/Documents/RCE/projects/2023-082_GP_DNB_bankbiljet/data/interim/MFT/2023-06-22_2023-082_MF.BW69341.02_G01_banknote_HPX1_VIS-25-01_sMFT_INFO.txt',\n",
       "  '/home/gus/Documents/RCE/projects/2023-082_GP_DNB_bankbiljet/data/interim/MFT/2023-06-28_2023-082_MF.BW69341.19_G07_banknote_HPX1_VIS-25-01_sMFT_INFO.txt',\n",
       "  '/home/gus/Documents/RCE/projects/2023-082_GP_DNB_bankbiljet/data/interim/MFT/2023-06-23_2023-082_MF.BW69341.18_G06_banknote_HPX1_VIS-25-01_sMFT_INFO.txt',\n",
       "  '/home/gus/Documents/RCE/projects/2023-082_GP_DNB_bankbiljet/data/interim/MFT/2023-06-23_2023-082_MF.BW69341.16_G06_banknote_HPX1_VIS-25-01_sMFT_dE.csv',\n",
       "  '/home/gus/Documents/RCE/projects/2023-082_GP_DNB_bankbiljet/data/interim/MFT/2023-06-28_2023-082_MF.BW69341.21_G07_banknote_HPX1_VIS-25-01_sMFT_INFO.txt',\n",
       "  '/home/gus/Documents/RCE/projects/2023-082_GP_DNB_bankbiljet/data/interim/MFT/2023-06-22_2023-082_MF.BW69341.06_G02_banknote_HPX1_VIS-25-01_sMFT_SP.csv',\n",
       "  '/home/gus/Documents/RCE/projects/2023-082_GP_DNB_bankbiljet/data/interim/MFT/2023-06-23_2023-082_MF.BW69341.12_G04_banknote_HPX1_VIS-25-01_sMFT_dE.csv',\n",
       "  '/home/gus/Documents/RCE/projects/2023-082_GP_DNB_bankbiljet/data/interim/MFT/2023-06-23_2023-082_MF.BW69341.14_G05_banknote_HPX1_VIS-25-01_sMFT_dE.csv',\n",
       "  '/home/gus/Documents/RCE/projects/2023-082_GP_DNB_bankbiljet/data/interim/MFT/2023-06-22_2023-082_MF.BW69341.08_G03_banknote_HPX1_VIS-25-01_sMFT_INFO.txt',\n",
       "  '/home/gus/Documents/RCE/projects/2023-082_GP_DNB_bankbiljet/data/interim/MFT/2023-06-23_2023-082_MF.BW69341.18_G06_banknote_HPX1_VIS-25-01_sMFT_dE.csv',\n",
       "  '/home/gus/Documents/RCE/projects/2023-082_GP_DNB_bankbiljet/data/interim/MFT/2023-06-22_2023-082_MF.BW69341.05_G02_banknote_HPX1_VIS-25-01_sMFT_SP.csv'],\n",
       " 'Photos': ['/home/gus/Documents/RCE/projects/2023-082_GP_DNB_bankbiljet/data/interim/Photos/2023-06-28_2023-082_BS.01_HPX1_VIS-25-01_23.0mm_UVIR400um2_WR1_IS2.h5',\n",
       "  '/home/gus/Documents/RCE/projects/2023-082_GP_DNB_bankbiljet/data/interim/Photos/2023-06-23_2023-082_BS.01_HPX1_VIS-25-01_23.0mm_UVIR400um2_WR1_IS2.h5',\n",
       "  '/home/gus/Documents/RCE/projects/2023-082_GP_DNB_bankbiljet/data/interim/Photos/corr_2023-06-23_BW69341_recto_1.TIF',\n",
       "  '/home/gus/Documents/RCE/projects/2023-082_GP_DNB_bankbiljet/data/interim/Photos/2023-06-22_2023-082_BS.01_HPX1_VIS-25-01_23.0mm_UVIR400um2_WR1_IS2.h5',\n",
       "  '/home/gus/Documents/RCE/projects/2023-082_GP_DNB_bankbiljet/data/interim/Photos/corr_2023-06-23_BW69341_verso_1.TIF'],\n",
       " 'Power': ['/home/gus/Documents/RCE/projects/2023-082_GP_DNB_bankbiljet/data/interim/Power/2023-06-23_2023-082_P.00002_HPX1_COA-x4.0-iris1.0_VIS-25-01_23.0mm_UVIR400um2.csv',\n",
       "  '/home/gus/Documents/RCE/projects/2023-082_GP_DNB_bankbiljet/data/interim/Power/2023-06-22_2023-082_P.00001_HPX1_COA-x4.0-iris1.0_VIS-25-01_23.0mm_UVIR400um2.csv',\n",
       "  '/home/gus/Documents/RCE/projects/2023-082_GP_DNB_bankbiljet/data/interim/Power/2023-06-28_2023-082_P.00003_HPX1_COA-x4.0-iris1.0_VIS-25-01_23.0mm_UVIR400um2.csv']}"
      ]
     },
     "execution_count": 14,
     "metadata": {},
     "output_type": "execute_result"
    }
   ],
   "source": [
    "# get the measurement files for each analyses performed\n",
    "p.measurement_files()"
   ]
  },
  {
   "cell_type": "code",
   "execution_count": null,
   "id": "3f598424-844c-4e1d-bb39-85ce93c21d3f",
   "metadata": {},
   "outputs": [],
   "source": []
  }
 ],
 "metadata": {
  "kernelspec": {
   "display_name": "Python 3 (ipykernel)",
   "language": "python",
   "name": "python3"
  },
  "language_info": {
   "codemirror_mode": {
    "name": "ipython",
    "version": 3
   },
   "file_extension": ".py",
   "mimetype": "text/x-python",
   "name": "python",
   "nbconvert_exporter": "python",
   "pygments_lexer": "ipython3",
   "version": "3.9.12"
  }
 },
 "nbformat": 4,
 "nbformat_minor": 5
}
